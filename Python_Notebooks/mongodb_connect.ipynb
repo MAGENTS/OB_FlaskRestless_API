{
 "cells": [
  {
   "cell_type": "code",
   "execution_count": null,
   "metadata": {},
   "outputs": [],
   "source": [
    "from pymongo import MongoClient\n",
    "\n",
    "def get_mongo_database(db_name, host='localhost', port=27017, username=None, password=None):\n",
    "    \n",
    "    \"\"\" Get named database from MongoDB with/out authentification \"\"\"\n",
    "    if username and password:\n",
    "        mongo_uri = 'mongodb://%s:%s@%s/%s' % (username, password, host, db_name)\n",
    "        conn = MongoClient(mongo_uri)\n",
    "    else:\n",
    "        conn = MongoClient(host, port)\n",
    "        \n",
    "    return conn[db_name]"
   ]
  },
  {
   "cell_type": "code",
   "execution_count": null,
   "metadata": {},
   "outputs": [],
   "source": [
    "\n",
    "# Connect to db using dataset:\n",
    "import dataset\n",
    "import datafreeze\n",
    "\n",
    "db = dataset.connect('mssql+pyodbc://ORLEBIDEVDB/INTEGRATION?driver=SQL+Server+Native+Client+11.0')\n",
    "\n",
    "# Querying:\n",
    "mktJul2018Donors = db.query(\n",
    "\"\"\"\n",
    "select\n",
    "    mkt.person_id,\n",
    "    dd.FullDateUSA,\n",
    "    mkt.min_reg_id,\n",
    "    mkt.total_platelet_donations\n",
    "from\n",
    "(\n",
    "    select MKT.personid PERSON_ID, MIN(mkt.COLLECTIONDATESK) MIN_REG_DATE,MIN(registrationid) MIN_REG_ID,COUNT(1) total_platelet_donations\n",
    "    from [Integration].[dbo].[INT_MKTCollectionDetails] mkt\n",
    "    where mkt.DonationTypeSK in (2,5,7,26)\t\t\n",
    "     and mkt.CompletedFlag >= 8\t\t\n",
    "     and upper(mkt.GENDER) in ('M','F')\t\t\n",
    "     and (MKT.collectiondatesk >= '20180701' and MKT.collectiondatesk < '20180801')\n",
    "    --and reg.person_id = 2237761\n",
    "    group by MKT.personid\n",
    ") mkt\n",
    "JOIN [Integration].[dbo].[VW_INT_DIMDATE] dd\n",
    "    ON dd.dateKey = mkt.MIN_REG_DATE\n",
    "\"\"\")\n",
    "\n",
    "# coll.insert_many(mktJul2018Donors)          "
   ]
  },
  {
   "cell_type": "code",
   "execution_count": 11,
   "metadata": {},
   "outputs": [
    {
     "name": "stdout",
     "output_type": "stream",
     "text": [
      "_id\n",
      "person_id\n",
      "FullDateUSA\n",
      "min_reg_id\n",
      "total_platelet_donations\n"
     ]
    },
    {
     "data": {
      "text/plain": [
       "[{'_id': ObjectId('5b81c449cb27571e16b36405'),\n",
       "  'person_id': 50939043,\n",
       "  'FullDateUSA': '07/05/2018',\n",
       "  'min_reg_id': 108539841,\n",
       "  'total_platelet_donations': 1}]"
      ]
     },
     "execution_count": 11,
     "metadata": {},
     "output_type": "execute_result"
    }
   ],
   "source": [
    "DB_REGS_JUL18 = 'regsJul18'\n",
    "COLL_PLDONSJUL18 = 'plDonorsJul18'\n",
    "\n",
    "db = get_mongo_database(DB_REGS_JUL18)\n",
    "coll = db[COLL_PLDONSJUL18]\n",
    "\n",
    "# get keys in the collection\n",
    "document = coll.find_one()\n",
    "\n",
    "for k in document:\n",
    "    print(k)\n",
    "\n",
    "\n",
    "resPID = coll.find({'person_id': 50939043})    \n",
    "list(resPID)"
   ]
  },
  {
   "cell_type": "code",
   "execution_count": null,
   "metadata": {
    "scrolled": false
   },
   "outputs": [],
   "source": [
    "# Find all of the persons with more than 3 platelet donations:\n",
    "res_highPL = coll.find({'total_platelet_donations': {'$gt': 3}})\n",
    "list(res_highPL)"
   ]
  },
  {
   "cell_type": "code",
   "execution_count": null,
   "metadata": {},
   "outputs": [],
   "source": [
    "# Find all of the persons with more than 3 platelet donations or dontated on 07/31/2018\n",
    "res_highPL_MaxDate = coll.find({'$or': [ {'total_platelet_donations': {'$gt': 3} }, {'FullDateUSA': '07/31/2018'} ] })\n",
    "\n",
    "list(res_highPL_MaxDate)"
   ]
  },
  {
   "cell_type": "code",
   "execution_count": null,
   "metadata": {},
   "outputs": [],
   "source": [
    "# Turn the collection back into a Python list of dictionaries:\n",
    "def mongo_coll_to_dict(dbname='test', collname='test', query={}, del_id=True, **kw):\n",
    "    \n",
    "    db = get_mongo_database(dbname, **kw)\n",
    "    res = list(db[collname].find(query))\n",
    "    \n",
    "    if del_id:\n",
    "        # Go through the results in res:\n",
    "        for r in res:\n",
    "            # remove Mongodb id value added to our import:\n",
    "            r.pop('_id')\n",
    "            \n",
    "    return res\n",
    "\n",
    "# Create a python dictionary from MongoDB data:\n",
    "mongo_coll_to_dict(DB_REGS_JUL18, COLL_PLDONSJUL18)"
   ]
  }
 ],
 "metadata": {
  "kernelspec": {
   "display_name": "Python 3",
   "language": "python",
   "name": "python3"
  },
  "language_info": {
   "codemirror_mode": {
    "name": "ipython",
    "version": 3
   },
   "file_extension": ".py",
   "mimetype": "text/x-python",
   "name": "python",
   "nbconvert_exporter": "python",
   "pygments_lexer": "ipython3",
   "version": "3.7.0"
  }
 },
 "nbformat": 4,
 "nbformat_minor": 2
}
