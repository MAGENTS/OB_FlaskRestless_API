{
 "cells": [
  {
   "cell_type": "code",
   "execution_count": null,
   "metadata": {},
   "outputs": [],
   "source": [
    "# Recreating the mktCollection table from Integration here:\n",
    "import sqlalchemy as sa\n",
    "from sqlalchemy import create_engine\n",
    "from sqlalchemy import Table, Column, Integer, String, MetaData, ForeignKey\n",
    "from sqlalchemy import inspect\n",
    "from sqlalchemy import DateTime\n",
    "\n",
    "from datetime import datetime\n",
    "\n",
    "\n",
    "INT_MKTCollectionDetails = Table(\n",
    "    'INT_MKTCollectionDetails', metadata,\n",
    "    Column('CollectionDetailSK', Integer(), primary_key=True, nullable=False)\n",
    "    Column('DonationTypeSK', Integer())\n",
    "    Column('CollectionDateSK', Integer())\n",
    "    Column('LocationSK', Integer())\n",
    "    Column('motivationsk', Integer())\n",
    "    Column('SourceSystem', String(25))\n",
    "    Column('registrationID', Integer())\n",
    "    Column('personid', Integer(), unique=True, index=True)\n",
    "    Column('driveid', Integer())\n",
    "    Column('failurecode', String(2000))\n",
    "    Column('CompletedFlag', String(25))\n",
    "    Column('UnitNumber', String(200))\n",
    "    Column('DriveName', String(100))\n",
    "    Column('createddate', DateTime(), default=datetime.now)\n",
    "    Column('modifieddate', DateTime(), default=datetime.now, onupdate=datetime.now)\n",
    "    Column('bloodtypesk', Integer())\n",
    "    Column('discarded', String(10))\n",
    "    Column('import', Integer())\n",
    "    Column('EthnicSK', Integer())\n",
    "    Column('Gender', String(12))\n",
    "    Column('vehicleUID', Integer())\n",
    "    Column('vehicleId', Integer())\n",
    "    Column('MachineID', String(12))\n",
    "    Column('PrePhlebEmpid', Integer())\n",
    "    Column('PostPhlebEmpid', Integer())\n",
    "    Column('RegEmpid', Integer())\n",
    "    Column('PersonDOB', Date())\n",
    "    Column('PersonZipCode', String(100))\n",
    "    Column('LoadFlag', Integer())\n",
    "    Column('DHQEmpID', Integer())\n",
    "    Column('PhyEmpID', Integer())\n",
    "    Column('ProductCount', String(12))\n",
    "    Column('StagingAreaSK', Integer())\n",
    "    Column('MachineSerialNo', String(12))\n",
    "    Column('TeamLeadEmpID', Integer())\n",
    "    Column('GroupID', Integer())\n",
    "    Column('AccountID', Integer())\n",
    "    Column('AccountInternalName', String(12))\n",
    "    Column('AccountZipCode', String(12))\n",
    "    Column('DrawTime', DateTime())\n",
    "    Column('WithdrawlTime', DateTime())\n",
    "    Column('ParentVolume', Integer())\n",
    ")\n",
    "\n",
    "\n",
    "#from sqlalchemy import Index\n",
    "#Index('ix_persons_person_id', 'personid')\n",
    "\n",
    "# Optomized lookups created from a number of fields:\n",
    "#Index('ix_test', mytable.c.personid, mytable.c.first_name, mytable.c.last_name)"
   ]
  },
  {
   "cell_type": "code",
   "execution_count": null,
   "metadata": {},
   "outputs": [],
   "source": [
    "# Inserting into table:\n",
    "ins = INT_MKTCollectionDetails.insert().values(\n",
    "...\n",
    ")"
   ]
  }
 ],
 "metadata": {
  "kernelspec": {
   "display_name": "Python 3",
   "language": "python",
   "name": "python3"
  },
  "language_info": {
   "codemirror_mode": {
    "name": "ipython",
    "version": 3
   },
   "file_extension": ".py",
   "mimetype": "text/x-python",
   "name": "python",
   "nbconvert_exporter": "python",
   "pygments_lexer": "ipython3",
   "version": "3.7.0"
  }
 },
 "nbformat": 4,
 "nbformat_minor": 2
}
