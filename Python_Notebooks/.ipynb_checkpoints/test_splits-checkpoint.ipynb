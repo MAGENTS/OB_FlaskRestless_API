{
 "cells": [
  {
   "cell_type": "code",
   "execution_count": 11,
   "metadata": {},
   "outputs": [
    {
     "data": {
      "text/plain": [
       "[['Team',\n",
       "  'Games',\n",
       "  'Wins',\n",
       "  'Losses',\n",
       "  'Draws',\n",
       "  'Goals',\n",
       "  'Goals Allowed',\n",
       "  'Points'],\n",
       " ['Arsenal', '38', '26', '9', '3', '79', '36', '87'],\n",
       " ['Liverpool', '38', '24', '8', '6', '67', '30', '80'],\n",
       " ['Manchester United', '38', '24', '5', '9', '87', '45', '77'],\n",
       " ['Newcastle', '38', '21', '8', '9', '74', '52', '71'],\n",
       " ['Leeds', '38', '18', '12', '8', '53', '37', '66'],\n",
       " ['Chelsea', '38', '17', '13', '8', '66', '38', '64'],\n",
       " ['West_Ham', '38', '15', '8', '15', '48', '57', '53'],\n",
       " ['Aston_Villa', '38', '12', '14', '12', '46', '47', '50'],\n",
       " ['Tottenham', '38', '14', '8', '16', '49', '53', '50'],\n",
       " ['Blackburn', '38', '12', '10', '16', '55', '51', '46'],\n",
       " ['Southampton', '38', '12', '9', '17', '46', '54', '45'],\n",
       " ['Middlesbrough', '38', '12', '9', '17', '35', '47', '45'],\n",
       " ['Fulham', '38', '10', '14', '14', '36', '44', '44'],\n",
       " ['Charlton', '38', '10', '14', '14', '38', '49', '44'],\n",
       " ['Everton', '38', '11', '10', '17', '45', '57', '43'],\n",
       " ['Bolton', '38', '9', '13', '16', '44', '62', '40'],\n",
       " ['Sunderland', '38', '10', '10', '18', '29', '51', '40'],\n",
       " ['Ipswich', '38', '9', '9', '20', '41', '64', '36'],\n",
       " ['Derby', '38', '8', '6', '24', '33', '63', '30'],\n",
       " ['Leicester', '38', '5', '13', '20', '30', '64', '28']]"
      ]
     },
     "execution_count": 11,
     "metadata": {},
     "output_type": "execute_result"
    }
   ],
   "source": [
    "import csv\n",
    "\n",
    "def read_data(data):\n",
    "    with open(data, 'r') as f:\n",
    "        data = [row.split(',') for row in f.read().splitlines()]\n",
    "    return data\n",
    "\n",
    "data = \"football\"\n",
    "# read_data(data)"
   ]
  },
  {
   "cell_type": "code",
   "execution_count": 12,
   "metadata": {},
   "outputs": [],
   "source": [
    "# Unit test:\n",
    "import unittest\n",
    "\n",
    "class ParseCSVTest(unittest.TestCase):\n",
    "    \n",
    "    def setUp(self):\n",
    "        self.data = 'football'\n",
    "        self.outData = read_data(self.data)\n",
    "        \n",
    "    def test_csv_read_data_headers(self):\n",
    "        self.assertEqual(\n",
    "            self.outData[0],\n",
    "            ['Team', 'Games', 'Wins', 'Losses', 'Draws', 'Goals', 'Goals Allowed', 'Points']\n",
    "        )\n",
    "        \n",
    "    # Check first row first element\n",
    "    def test_csv_read_data_team_name(self):\n",
    "        self.assertEqual(\n",
    "            self.outData[1][0],\n",
    "            'Arsenal'\n",
    "        )\n",
    "        \n",
    "    def test_csv_read_data_numPoints(self):\n",
    "        self.assertEqual(\n",
    "            self.outData[1][7], '87'\n",
    "        )\n",
    "        \n",
    "        \n",
    "if __name__ == '__main__':\n",
    "    unittest.main()"
   ]
  },
  {
   "cell_type": "code",
   "execution_count": null,
   "metadata": {},
   "outputs": [],
   "source": []
  }
 ],
 "metadata": {
  "kernelspec": {
   "display_name": "Python 3",
   "language": "python",
   "name": "python3"
  },
  "language_info": {
   "codemirror_mode": {
    "name": "ipython",
    "version": 3
   },
   "file_extension": ".py",
   "mimetype": "text/x-python",
   "name": "python",
   "nbconvert_exporter": "python",
   "pygments_lexer": "ipython3",
   "version": "3.6.5"
  }
 },
 "nbformat": 4,
 "nbformat_minor": 2
}
