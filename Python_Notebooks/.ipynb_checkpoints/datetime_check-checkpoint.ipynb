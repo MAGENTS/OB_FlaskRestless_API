{
 "cells": [
  {
   "cell_type": "code",
   "execution_count": 19,
   "metadata": {},
   "outputs": [
    {
     "name": "stdout",
     "output_type": "stream",
     "text": [
      "2018-08-21\n",
      "20180821\n"
     ]
    }
   ],
   "source": [
    "from datetime import datetime, date as dt\n",
    "\n",
    "today_date = dt.today()\n",
    "print(today_date)\n",
    "\n",
    "print(today_date.strftime('%Y%m%d'))"
   ]
  },
  {
   "cell_type": "code",
   "execution_count": 20,
   "metadata": {},
   "outputs": [
    {
     "name": "stdout",
     "output_type": "stream",
     "text": [
      "2018-09-21\n",
      "2018-07-21\n"
     ]
    }
   ],
   "source": [
    "from dateutil.relativedelta import relativedelta as rd\n",
    "date_after_month = dt.today() + rd(months=1)\n",
    "print(date_after_month)\n",
    "\n",
    "date_prior_month = today_date - rd(months=1)\n",
    "print(date_prior_month)"
   ]
  },
  {
   "cell_type": "code",
   "execution_count": 21,
   "metadata": {},
   "outputs": [
    {
     "name": "stdout",
     "output_type": "stream",
     "text": [
      "2018-08-21\n",
      "20180821\n",
      "20180721\n",
      "<class 'int'>\n"
     ]
    }
   ],
   "source": [
    "today_date = dt.today()\n",
    "print(today_date)\n",
    "c_date_month = today_date.strftime('%Y%m%d')\n",
    "print(c_date_month)\n",
    "p_date_month = (today_date - rd(months=1)).strftime('%Y%m%d')\n",
    "print(p_date_month)\n",
    "curCollectDateSK = int((today_date).strftime('%Y%m%d'))\n",
    "print(type(curCollectDateSK))\n",
    "prCollectDateSK = int((today_date - rd(months=1)).strftime('%Y%m%d'))"
   ]
  },
  {
   "cell_type": "code",
   "execution_count": 34,
   "metadata": {},
   "outputs": [
    {
     "name": "stdout",
     "output_type": "stream",
     "text": [
      "2018-08-21 21:52:13.566359\n",
      "2018\n",
      "2018-08-21\n"
     ]
    },
    {
     "ename": "TypeError",
     "evalue": "unsupported operand type(s) for +: 'type' and 'str'",
     "output_type": "error",
     "traceback": [
      "\u001b[1;31m---------------------------------------------------------------------------\u001b[0m",
      "\u001b[1;31mTypeError\u001b[0m                                 Traceback (most recent call last)",
      "\u001b[1;32m<ipython-input-34-9b505ce6e0ec>\u001b[0m in \u001b[0;36m<module>\u001b[1;34m()\u001b[0m\n\u001b[0;32m      9\u001b[0m \u001b[0mprint\u001b[0m\u001b[1;33m(\u001b[0m\u001b[0mtoday_date\u001b[0m\u001b[1;33m)\u001b[0m\u001b[1;33m\u001b[0m\u001b[0m\n\u001b[0;32m     10\u001b[0m \u001b[0mc_date_month\u001b[0m \u001b[1;33m=\u001b[0m \u001b[0mtoday_date\u001b[0m\u001b[1;33m.\u001b[0m\u001b[0mstrftime\u001b[0m\u001b[1;33m(\u001b[0m\u001b[1;34m'%Y%m%d'\u001b[0m\u001b[1;33m)\u001b[0m\u001b[1;33m\u001b[0m\u001b[0m\n\u001b[1;32m---> 11\u001b[1;33m \u001b[0mprint\u001b[0m\u001b[1;33m(\u001b[0m\u001b[0mtype\u001b[0m\u001b[1;33m(\u001b[0m\u001b[0mc_date_month\u001b[0m\u001b[1;33m)\u001b[0m \u001b[1;33m+\u001b[0m \u001b[0mstr\u001b[0m\u001b[1;33m(\u001b[0m\u001b[0mc_date_month\u001b[0m\u001b[1;33m)\u001b[0m\u001b[1;33m)\u001b[0m\u001b[1;33m\u001b[0m\u001b[0m\n\u001b[0m\u001b[0;32m     12\u001b[0m \u001b[1;33m\u001b[0m\u001b[0m\n\u001b[0;32m     13\u001b[0m \u001b[0mp_date_month\u001b[0m \u001b[1;33m=\u001b[0m \u001b[1;33m(\u001b[0m\u001b[0mtoday_date\u001b[0m \u001b[1;33m-\u001b[0m \u001b[0mrd\u001b[0m\u001b[1;33m(\u001b[0m\u001b[0mmonths\u001b[0m\u001b[1;33m=\u001b[0m\u001b[1;36m1\u001b[0m\u001b[1;33m)\u001b[0m\u001b[1;33m)\u001b[0m\u001b[1;33m.\u001b[0m\u001b[0mstrftime\u001b[0m\u001b[1;33m(\u001b[0m\u001b[1;34m'%Y%m%d'\u001b[0m\u001b[1;33m)\u001b[0m\u001b[1;33m\u001b[0m\u001b[0m\n",
      "\u001b[1;31mTypeError\u001b[0m: unsupported operand type(s) for +: 'type' and 'str'"
     ]
    }
   ],
   "source": [
    "import datetime as dt\n",
    "\n",
    "x = dt.datetime.now()\n",
    "print(x)\n",
    "\n",
    "print(x.year)\n",
    "\n",
    "today_date =  dt.date.today()\n",
    "print(today_date)\n",
    "c_date_month = today_date.strftime('%Y%m%d')\n",
    "print(str(type(c_date_month)) + str(c_date_month))\n",
    "\n",
    "p_date_month = (today_date - rd(months=1)).strftime('%Y%m%d')\n",
    "print(p_date_month)"
   ]
  }
 ],
 "metadata": {
  "kernelspec": {
   "display_name": "Python 3",
   "language": "python",
   "name": "python3"
  },
  "language_info": {
   "codemirror_mode": {
    "name": "ipython",
    "version": 3
   },
   "file_extension": ".py",
   "mimetype": "text/x-python",
   "name": "python",
   "nbconvert_exporter": "python",
   "pygments_lexer": "ipython3",
   "version": "3.7.0"
  }
 },
 "nbformat": 4,
 "nbformat_minor": 2
}
