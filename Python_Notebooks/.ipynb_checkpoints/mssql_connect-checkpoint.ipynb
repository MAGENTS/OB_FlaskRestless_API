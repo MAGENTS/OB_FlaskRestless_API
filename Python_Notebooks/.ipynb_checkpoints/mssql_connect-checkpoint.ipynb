{
 "cells": [
  {
   "cell_type": "code",
   "execution_count": 1,
   "metadata": {},
   "outputs": [
    {
     "name": "stdout",
     "output_type": "stream",
     "text": [
      "Microsoft SQL Server 2012 (SP2-GDR) (KB3194719) - 11.0.5388.0 (X64) \n",
      "\tSep 23 2016 16:56:29 \n",
      "\tCopyright (c) Microsoft Corporation\n",
      "\tEnterprise Edition (64-bit) on Windows NT 6.3 <X64> (Build 9600: ) (Hypervisor)\n",
      "\n"
     ]
    }
   ],
   "source": [
    "import pyodbc\n",
    "\n",
    "cnxn = pyodbc.connect(r'DRIVER={SQL Server Native Client 11.0};SERVER=ORLEBIDEVDB;DATABASE=INTEGRATION;Trusted_Connection=yes;')\n",
    "cursor = cnxn.cursor()\n",
    "\n",
    "#Sample select query\n",
    "cursor.execute(\"SELECT @@version;\") \n",
    "row = cursor.fetchone() \n",
    "while row: \n",
    "    print(row[0]) \n",
    "    row = cursor.fetchone()\n"
   ]
  },
  {
   "cell_type": "code",
   "execution_count": null,
   "metadata": {},
   "outputs": [],
   "source": []
  }
 ],
 "metadata": {
  "kernelspec": {
   "display_name": "Python 3",
   "language": "python",
   "name": "python3"
  },
  "language_info": {
   "codemirror_mode": {
    "name": "ipython",
    "version": 3
   },
   "file_extension": ".py",
   "mimetype": "text/x-python",
   "name": "python",
   "nbconvert_exporter": "python",
   "pygments_lexer": "ipython3",
   "version": "3.7.0"
  }
 },
 "nbformat": 4,
 "nbformat_minor": 2
}
