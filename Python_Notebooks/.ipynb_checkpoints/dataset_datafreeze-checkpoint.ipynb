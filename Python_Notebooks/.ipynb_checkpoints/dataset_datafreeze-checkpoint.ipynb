{
 "cells": [
  {
   "cell_type": "code",
   "execution_count": null,
   "metadata": {},
   "outputs": [],
   "source": [
    "# Connect to db using dataset:\n",
    "import dataset\n",
    "import datafreeze\n",
    "db = dataset.connect('mssql+pyodbc://ORLEBIDEVDB/INTEGRATION?driver=SQL+Server+Native+Client+11.0')\n",
    "\n",
    "# print(db.tables)\n",
    "\n",
    "plDons = db['INT_MKTCollectionDetails'].find(**{'CollectionDateSK' : ['20180604']}, _limit=10)\n",
    "\n",
    "for row in plDons:\n",
    "        print(row)"
   ]
  },
  {
   "cell_type": "code",
   "execution_count": null,
   "metadata": {
    "scrolled": false
   },
   "outputs": [],
   "source": [
    "# Grab the mktcollection table:\n",
    "mktCollect_Table = db['INT_MKTCollectionDetails']\n",
    "\n",
    "print(mktCollect_Table.columns)\n",
    "\n",
    "dimdate_Table = db['VW_INT_DIMDATE']\n",
    "\n",
    "print(dimdate_Table.columns)\n",
    "\n",
    "list(mktCollect_Table.find(_limit=10))\n",
    "\n",
    "#print(type(mktCollect_Table))\n",
    "\n",
    "for pl in mktCollect_Table.find(_limit=10):\n",
    "    print(dict(pl))"
   ]
  },
  {
   "cell_type": "code",
   "execution_count": null,
   "metadata": {},
   "outputs": [],
   "source": [
    "\n",
    "# Querying:\n",
    "mktJul2018Donors = db.query(\"\"\"\n",
    "select\n",
    "    mkt.person_id,\n",
    "    dd.FullDateUSA,\n",
    "    mkt.min_reg_id,\n",
    "    mkt.total_platelet_donations\n",
    "from\n",
    "(\n",
    "    select MKT.personid PERSON_ID, MIN(mkt.COLLECTIONDATESK) MIN_REG_DATE,MIN(registrationid) MIN_REG_ID,COUNT(1) total_platelet_donations\n",
    "    from [Integration].[dbo].[INT_MKTCollectionDetails] mkt\n",
    "    where mkt.DonationTypeSK in (2,5,7,26)\t\t\n",
    "     and mkt.CompletedFlag >= 8\t\t\n",
    "     and upper(mkt.GENDER) in ('M','F')\t\t\n",
    "     and (MKT.collectiondatesk >= '20180701' and MKT.collectiondatesk < '20180801')\n",
    "    --and reg.person_id = 2237761\n",
    "    group by MKT.personid\n",
    ") mkt\n",
    "JOIN [Integration].[dbo].[VW_INT_DIMDATE] dd\n",
    "    ON dd.dateKey = mkt.MIN_REG_DATE\n",
    "\"\"\")\n",
    "\n",
    "# for row in mktJul2018Donors:\n",
    "#   print(row['PERSON_ID'], row['total_platelet_donations'])\n",
    "\n",
    "\n",
    "# Output to CSV:\n",
    "#datafreeze.freeze(mktJul2018Donors, format='csv',\n",
    "#                  filename='data/mktCollect_Jul18_platelet_dons.csv')\n",
    "\n",
    "for row in mktJul2018Donors:\n",
    "    print(row['person_id'], row['FullDateUSA'])\n",
    "                            \n",
    "print(type(mktJul2018Donors))\n",
    "                            \n",
    "# Output to JSON:\n",
    "#datafreeze.freeze(mktJul2018Donors, format='json',\n",
    "#                  filename='data/mktCollect_Jul18_plDons.json')"
   ]
  }
 ],
 "metadata": {
  "kernelspec": {
   "display_name": "Python 3",
   "language": "python",
   "name": "python3"
  },
  "language_info": {
   "codemirror_mode": {
    "name": "ipython",
    "version": 3
   },
   "file_extension": ".py",
   "mimetype": "text/x-python",
   "name": "python",
   "nbconvert_exporter": "python",
   "pygments_lexer": "ipython3",
   "version": "3.7.0"
  }
 },
 "nbformat": 4,
 "nbformat_minor": 2
}
