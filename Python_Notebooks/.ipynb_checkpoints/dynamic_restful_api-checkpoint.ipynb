{
 "cells": [
  {
   "cell_type": "code",
   "execution_count": null,
   "metadata": {},
   "outputs": [],
   "source": [
    "#server_dw.sql\n",
    "from flask import Flask, request, abort\n",
    "import sqlalchemy as sa\n",
    "from sqlalchemy import create_engine\n",
    "from sqlalchemy import (Table, Column, Integer, String, MetaData, ForeignKey, Numeric)\n",
    "from sqlalchemy import inspect\n",
    "from sqlalchemy.orm import sessionmaker\n",
    "from bson.json_util import dumps, default\n",
    "import pandas as pd\n",
    "\n",
    "app = Flask(__name__)\n",
    "\n",
    "\n",
    "engine = sa.create_engine('mssql+pyodbc://ORLEBIDEVDB/INTEGRATION?driver=SQL+Server+Native+Client+11.0')\n",
    "\n",
    "metadata = MetaData()\n",
    "\n",
    "# persist the schema of the existing database\n",
    "#metadata.create_all(engine)\n",
    "#print(metadata.tables)\n",
    "\n",
    "# reflect db schema to MetaData\n",
    "metadata.reflect(bind=engine)\n",
    "\n",
    "connection = engine.connect()\n",
    "\n",
    "mktDB = Table('INT_MKTCollectionDetails', metadata)\n",
    "\n",
    "plDons_df = pd.read_csv('/vizTest/data/mktCollect_Jul18_plDons.csv')\n",
    "\n",
    "@app.route('/api/plateletDonors')\n",
    "def get_pldonors_month():\n",
    "    query_dict = {}\n",
    "    \n",
    "    for key in ['person_id', 'data', 'min_reg_id', 'num_pl_dons']:\n",
    "        # Request the field from database model\n",
    "        arg = request.args.get(key)\n",
    "        \n",
    "        if arg:\n",
    "            query_dict[key] = arg\n",
    "            \n",
    "    plDons = plDons_df.find(query_dict)"
   ]
  }
 ],
 "metadata": {
  "kernelspec": {
   "display_name": "Python 3",
   "language": "python",
   "name": "python3"
  },
  "language_info": {
   "codemirror_mode": {
    "name": "ipython",
    "version": 3
   },
   "file_extension": ".py",
   "mimetype": "text/x-python",
   "name": "python",
   "nbconvert_exporter": "python",
   "pygments_lexer": "ipython3",
   "version": "3.7.0"
  }
 },
 "nbformat": 4,
 "nbformat_minor": 2
}
