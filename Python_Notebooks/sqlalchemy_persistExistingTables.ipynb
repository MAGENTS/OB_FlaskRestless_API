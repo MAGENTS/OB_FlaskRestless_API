{
 "cells": [
  {
   "cell_type": "code",
   "execution_count": null,
   "metadata": {},
   "outputs": [],
   "source": [
    "import sqlalchemy as sa\n",
    "from sqlalchemy import create_engine\n",
    "from sqlalchemy import (Table, Column, Integer, String, MetaData, ForeignKey, Numeric)\n",
    "from sqlalchemy import inspect\n",
    "from sqlalchemy.orm import sessionmaker\n",
    "\n",
    "engine = sa.create_engine('mssql+pyodbc://ORLEBIDEVDB/INTEGRATION?driver=SQL+Server+Native+Client+11.0')\n",
    "\n",
    "metadata = MetaData()\n",
    "\n",
    "# persist the schema of the existing database\n",
    "#metadata.create_all(engine)\n",
    "#print(metadata.tables)\n",
    "\n",
    "# reflect db schema to MetaData\n",
    "metadata.reflect(bind=engine)\n",
    "#print(metadata.tables)\n",
    "\n",
    "inspector = inspect(engine)\n",
    "#print(inspector)\n",
    "\n",
    "connection = engine.connect()"
   ]
  },
  {
   "cell_type": "code",
   "execution_count": null,
   "metadata": {},
   "outputs": [],
   "source": [
    "print('INT_MKTCollectionDetails' in metadata.tables)\n",
    "\n",
    "# 2 ways to assign Table:\n",
    "\n",
    "mktCollectDtls1 = Table('INT_MKTCollectionDetails', metadata)\n",
    "\n",
    "print(type(mktCollectDtls1))\n",
    "\n",
    "mktCollectDtls2 =  metadata.tables['INT_MKTCollectionDetails']\n",
    "\n",
    "print(type(mktCollectDtls2))\n",
    "\n",
    "for col in mktCollectDtls1.columns:\n",
    "    print(col)"
   ]
  },
  {
   "cell_type": "code",
   "execution_count": null,
   "metadata": {},
   "outputs": [],
   "source": [
    "# create a Session\n",
    "Session = sessionmaker(bind=engine)\n",
    "session = Session()\n",
    "\n",
    "# how to do a  SELECT * (i.e. all)\n",
    "# res = session.query(mktCollectDtls1).all()\n",
    "#for mkt in res:\n",
    "#    print(mkt.DonationTypeSK)\n",
    "\n",
    "\n",
    "# how to do a JOINed query\n",
    "mkt_201807 = session.query(mktCollectDtls1).filter(mktCollectDtls1.columns.CollectionDateSK >= 20180701)\n",
    "# artist, album = qry.filter(Album.title==\"Step Up to the Microphone\").first()\n",
    "\n",
    "for item in mkt_201807:\n",
    "    print(item.DonationTypeSK)\n"
   ]
  }
 ],
 "metadata": {
  "kernelspec": {
   "display_name": "Python 3",
   "language": "python",
   "name": "python3"
  },
  "language_info": {
   "codemirror_mode": {
    "name": "ipython",
    "version": 3
   },
   "file_extension": ".py",
   "mimetype": "text/x-python",
   "name": "python",
   "nbconvert_exporter": "python",
   "pygments_lexer": "ipython3",
   "version": "3.7.0"
  }
 },
 "nbformat": 4,
 "nbformat_minor": 2
}
