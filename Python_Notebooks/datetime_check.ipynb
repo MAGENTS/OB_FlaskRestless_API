{
 "cells": [
  {
   "cell_type": "code",
   "execution_count": 17,
   "metadata": {},
   "outputs": [
    {
     "name": "stdout",
     "output_type": "stream",
     "text": [
      "2018-09-11 21:59:55.831265\n",
      "<class 'str'>\n",
      "<class 'str'>\n",
      "2018-08-11\n",
      "20180811\n",
      "<class 'str'>\n",
      "2018-09-11\n",
      "<class 'str'>\n",
      "2018-09-11\n"
     ]
    }
   ],
   "source": [
    "from datetime import datetime, date\n",
    "from dateutil.relativedelta import relativedelta as rd\n",
    "\n",
    "today_date = datetime.today()\n",
    "print(today_date)\n",
    "\n",
    "print(type(today_date.strftime('%Y-%m-%d')))\n",
    "\n",
    "p_date_month = (datetime.today() - rd(months=1)).strftime('%Y-%m-%d')\n",
    "print(type(p_date_month))\n",
    "print(p_date_month)\n",
    "\n",
    "start_date=(datetime.today() - rd(months=1)).strftime('%Y%m%d')\n",
    "print(start_date)\n",
    "print(type(start_date))\n",
    "\n",
    "\n",
    "end_date=(datetime.today()).strftime('%Y-%m-%d')\n",
    "print(end_date)\n",
    "print(type(end_date))\n",
    "\n",
    "date_dt = datetime.strptime(end_date, '%Y-%m-%d').date()\n",
    "print(date_dt)"
   ]
  },
  {
   "cell_type": "code",
   "execution_count": 42,
   "metadata": {},
   "outputs": [
    {
     "name": "stdout",
     "output_type": "stream",
     "text": [
      "2018-09-21\n",
      "2018-07-21\n"
     ]
    }
   ],
   "source": [
    "from dateutil.relativedelta import relativedelta as rd\n",
    "date_after_month = dt.today() + rd(months=1)\n",
    "print(date_after_month)\n",
    "\n",
    "date_prior_month = today_date - rd(months=1)\n",
    "print(date_prior_month)"
   ]
  },
  {
   "cell_type": "code",
   "execution_count": 43,
   "metadata": {},
   "outputs": [
    {
     "name": "stdout",
     "output_type": "stream",
     "text": [
      "2018-08-21\n",
      "20180821\n",
      "20180721\n",
      "<class 'int'>\n"
     ]
    }
   ],
   "source": [
    "today_date = dt.today()\n",
    "print(today_date)\n",
    "c_date_month = today_date.strftime('%Y%m%d')\n",
    "print(c_date_month)\n",
    "p_date_month = (today_date - rd(months=1)).strftime('%Y%m%d')\n",
    "print(p_date_month)\n",
    "curCollectDateSK = int((today_date).strftime('%Y%m%d'))\n",
    "print(type(curCollectDateSK))\n",
    "prCollectDateSK = int((today_date - rd(months=1)).strftime('%Y%m%d'))"
   ]
  },
  {
   "cell_type": "code",
   "execution_count": 44,
   "metadata": {},
   "outputs": [
    {
     "name": "stdout",
     "output_type": "stream",
     "text": [
      "2018-08-21 22:00:06.136159\n",
      "2018\n",
      "2018-08-21\n",
      "<class 'str'>20180821\n",
      "20180721\n",
      "<class 'str'>20180721\n"
     ]
    }
   ],
   "source": [
    "import datetime as dt\n",
    "\n",
    "x = dt.datetime.now()\n",
    "print(x)\n",
    "\n",
    "print(x.year)\n",
    "\n",
    "today_date =  dt.date.today()\n",
    "print(today_date)\n",
    "c_date_month = today_date.strftime('%Y%m%d')\n",
    "print(str(type(c_date_month)) + str(c_date_month))\n",
    "\n",
    "p_date_month = (today_date - rd(months=1)).strftime('%Y%m%d')\n",
    "print(p_date_month)\n",
    "print(str(type(p_date_month)) + str(p_date_month))"
   ]
  },
  {
   "cell_type": "code",
   "execution_count": null,
   "metadata": {},
   "outputs": [],
   "source": []
  }
 ],
 "metadata": {
  "kernelspec": {
   "display_name": "Python 3",
   "language": "python",
   "name": "python3"
  },
  "language_info": {
   "codemirror_mode": {
    "name": "ipython",
    "version": 3
   },
   "file_extension": ".py",
   "mimetype": "text/x-python",
   "name": "python",
   "nbconvert_exporter": "python",
   "pygments_lexer": "ipython3",
   "version": "3.7.0"
  }
 },
 "nbformat": 4,
 "nbformat_minor": 2
}
