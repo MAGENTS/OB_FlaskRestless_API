{
 "cells": [
  {
   "cell_type": "code",
   "execution_count": 37,
   "metadata": {},
   "outputs": [
    {
     "name": "stdout",
     "output_type": "stream",
     "text": [
      "[['Team', 'Games', 'Wins', 'Losses', 'Draws', 'Goals', 'Goals Allowed', 'Points'], ['Arsenal', '38', '26', '9', '3', '79', '36', '87'], ['Liverpool', '38', '24', '8', '6', '67', '30', '80'], ['Manchester United', '38', '24', '5', '9', '87', '45', '77'], ['Newcastle', '38', '21', '8', '9', '74', '52', '71'], ['Leeds', '38', '18', '12', '8', '53', '37', '66'], ['Chelsea', '38', '17', '13', '8', '66', '38', '64'], ['West_Ham', '38', '15', '8', '15', '48', '57', '53'], ['Aston_Villa', '38', '12', '14', '12', '46', '47', '50'], ['Tottenham', '38', '14', '8', '16', '49', '53', '50'], ['Blackburn', '38', '12', '10', '16', '55', '51', '46'], ['Southampton', '38', '12', '9', '17', '46', '54', '45'], ['Middlesbrough', '38', '12', '9', '17', '35', '47', '45'], ['Fulham', '38', '10', '14', '14', '36', '44', '44'], ['Charlton', '38', '10', '14', '14', '38', '49', '44'], ['Everton', '38', '11', '10', '17', '45', '57', '43'], ['Bolton', '38', '9', '13', '16', '44', '62', '40'], ['Sunderland', '38', '10', '10', '18', '29', '51', '40'], ['Ipswich', '38', '9', '9', '20', '41', '64', '36'], ['Derby', '38', '8', '6', '24', '33', '63', '30'], ['Leicester', '38', '5', '13', '20', '30', '64', '28']]\n",
      "['38', '38', '38', '38', '38', '38', '38', '38', '38', '38', '38', '38', '38', '38', '38', '38', '38', '38', '38', '38']\n",
      "['26', '24', '24', '21', '18', '17', '15', '12', '14', '12', '12', '12', '10', '10', '11', '9', '10', '9', '8', '5']\n",
      "['9', '8', '5', '8', '12', '13', '8', '14', '8', '10', '9', '9', '14', '14', '10', '13', '10', '9', '6', '13']\n",
      "[6.0, 4.0, 2.0, 1.0, -4.0, 2.0, -8.0]\n"
     ]
    }
   ],
   "source": [
    "import csv\n",
    "\n",
    "def read_data(data):\n",
    "    with open(data, 'r') as f:\n",
    "        data = [row.split(',') for row in f.read().splitlines()]\n",
    "    return data\n",
    "\n",
    "data = \"football\"\n",
    "outData = read_data(data)\n",
    "\n",
    "print(outData)\n",
    "\n",
    "num_games = [x[1] for x in outData[1:]]\n",
    "print(num_games)\n",
    "\n",
    "# gets win data (3rd column: index 2)\n",
    "# outData[1:] get all rows\n",
    "wins = [x[2] for x in outData[1:]]\n",
    "print(wins)\n",
    "\n",
    "losses = [x[3] for x in outData[1:]]\n",
    "print(losses)\n",
    "\n",
    "winloss = [float(w) - float(l) for w, l in zip(wins, losses) if w > l]\n",
    "print(winloss)"
   ]
  },
  {
   "cell_type": "code",
   "execution_count": 25,
   "metadata": {},
   "outputs": [
    {
     "name": "stdout",
     "output_type": "stream",
     "text": [
      "['Team', 'Games', 'Wins', 'Losses', 'Draws', 'Goals', 'Goals Allowed', 'Points']\n",
      "False\n"
     ]
    }
   ],
   "source": [
    "# Unit test:\n",
    "import unittest\n",
    "\n",
    "class ParseCSVTest(unittest.TestCase):\n",
    "    \n",
    "    def setUp(self):\n",
    "        self.data = 'football'\n",
    "        self.outData = read_data(self.data)\n",
    "        \n",
    "    def test_csv_read_data_headers(self):\n",
    "        return bool(self.assertEqual(\n",
    "            self.outData[0],\n",
    "            ['Team', 'Games', 'Wins', 'Losses', 'Draws', 'Goals', 'Goals Allowed', 'Points']\n",
    "        ))\n",
    "        \n",
    "    # Check first row first element\n",
    "    def test_csv_read_data_team_name(self):\n",
    "        return self.assertEqual(\n",
    "            self.outData[1][0],\n",
    "            'Arsenal'\n",
    "        )\n",
    "        \n",
    "    def test_csv_read_data_numPoints(self):\n",
    "        return self.assertEqual(\n",
    "            self.outData[1][7], '87'\n",
    "        )\n",
    "        \n",
    "        \n",
    "testParse = ParseCSVTest()\n",
    "\n",
    "testParse.setUp()\n",
    "print(testParse.outData[0])\n",
    "print(testParse.test_csv_read_data_headers())"
   ]
  },
  {
   "cell_type": "code",
   "execution_count": null,
   "metadata": {},
   "outputs": [],
   "source": []
  }
 ],
 "metadata": {
  "kernelspec": {
   "display_name": "Python 3",
   "language": "python",
   "name": "python3"
  },
  "language_info": {
   "codemirror_mode": {
    "name": "ipython",
    "version": 3
   },
   "file_extension": ".py",
   "mimetype": "text/x-python",
   "name": "python",
   "nbconvert_exporter": "python",
   "pygments_lexer": "ipython3",
   "version": "3.6.5"
  }
 },
 "nbformat": 4,
 "nbformat_minor": 2
}
